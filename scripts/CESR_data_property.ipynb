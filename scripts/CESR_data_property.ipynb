{
 "cells": [
  {
   "cell_type": "code",
   "execution_count": 1,
   "metadata": {},
   "outputs": [],
   "source": [
    "import pandas as pd"
   ]
  },
  {
   "cell_type": "code",
   "execution_count": 2,
   "metadata": {},
   "outputs": [
    {
     "name": "stdout",
     "output_type": "stream",
     "text": [
      "done\n"
     ]
    },
    {
     "name": "stderr",
     "output_type": "stream",
     "text": [
      "C:\\Users\\ericz\\anaconda3\\lib\\site-packages\\IPython\\core\\interactiveshell.py:3146: DtypeWarning: Columns (25,27,31,33,39,179,181,243,276,299,302,316,327,362,424,425,431,468,538,541,578,579,582,584) have mixed types.Specify dtype option on import or set low_memory=False.\n",
      "  has_raised = await self.run_ast_nodes(code_ast.body, cell_name,\n"
     ]
    }
   ],
   "source": [
    "df = pd.read_csv(\"ces2019_web.csv\", encoding='latin-1')\n",
    "print('done')"
   ]
  },
  {
   "cell_type": "code",
   "execution_count": 4,
   "metadata": {},
   "outputs": [
    {
     "data": {
      "text/plain": "   Unnamed: 0      cps19_StartDate        cps19_EndDate   cps19_ResponseId  \\\n0           1  2019-09-13 08:09:44  2019-09-13 08:36:19  R_1OpYXEFGzHRUpjM   \n1           2  2019-09-13 08:39:09  2019-09-13 08:57:06  R_2qdrL3J618rxYW0   \n2           3  2019-09-13 10:01:19  2019-09-13 10:27:29  R_USWDAPcQEQiMmNb   \n3           4  2019-09-13 10:05:37  2019-09-13 10:50:53  R_3IQaeDXy0tBzEry   \n4           5  2019-09-13 10:05:52  2019-09-13 10:32:53  R_27WeMQ1asip2cMD   \n\n   cps19_consent  cps19_citizenship  cps19_yob  cps19_yob_2001_age  \\\n0              1                  4         70                 NaN   \n1              1                  4         79                 NaN   \n2              1                  4         81                 NaN   \n3              1                  4         79                 NaN   \n4              1                  4         81                 NaN   \n\n   cps19_gender  cps19_province  ...  split_vol_assoc  pes19_data_quality  \\\n0             2              24  ...              NaN                 NaN   \n1             2              24  ...              NaN                 NaN   \n2             2              22  ...              NaN                 NaN   \n3             1              22  ...              NaN                 NaN   \n4             2              22  ...              NaN                 NaN   \n\n  pes19_panel  pes19_age pes19_duplicates_flag pes19_inattentive  \\\n0         NaN        NaN                   NaN               NaN   \n1         NaN        NaN                   NaN               NaN   \n2         NaN        NaN                   NaN               NaN   \n3         NaN        NaN                   NaN               NaN   \n4         NaN        NaN                   NaN               NaN   \n\n   cps19_weight_general_all cps19_weight_general_restricted  \\\n0                  0.681336                        0.673652   \n1                  0.681336                        0.673652   \n2                  0.650459                        0.635656   \n3                  0.887253                        0.856576   \n4                  1.653808                        1.651144   \n\n   pes19_weight_general_all  pes19_weight_general_restricted  \n0                       NaN                              NaN  \n1                       NaN                              NaN  \n2                       NaN                              NaN  \n3                       NaN                              NaN  \n4                       NaN                              NaN  \n\n[5 rows x 621 columns]",
      "text/html": "<div>\n<style scoped>\n    .dataframe tbody tr th:only-of-type {\n        vertical-align: middle;\n    }\n\n    .dataframe tbody tr th {\n        vertical-align: top;\n    }\n\n    .dataframe thead th {\n        text-align: right;\n    }\n</style>\n<table border=\"1\" class=\"dataframe\">\n  <thead>\n    <tr style=\"text-align: right;\">\n      <th></th>\n      <th>Unnamed: 0</th>\n      <th>cps19_StartDate</th>\n      <th>cps19_EndDate</th>\n      <th>cps19_ResponseId</th>\n      <th>cps19_consent</th>\n      <th>cps19_citizenship</th>\n      <th>cps19_yob</th>\n      <th>cps19_yob_2001_age</th>\n      <th>cps19_gender</th>\n      <th>cps19_province</th>\n      <th>...</th>\n      <th>split_vol_assoc</th>\n      <th>pes19_data_quality</th>\n      <th>pes19_panel</th>\n      <th>pes19_age</th>\n      <th>pes19_duplicates_flag</th>\n      <th>pes19_inattentive</th>\n      <th>cps19_weight_general_all</th>\n      <th>cps19_weight_general_restricted</th>\n      <th>pes19_weight_general_all</th>\n      <th>pes19_weight_general_restricted</th>\n    </tr>\n  </thead>\n  <tbody>\n    <tr>\n      <th>0</th>\n      <td>1</td>\n      <td>2019-09-13 08:09:44</td>\n      <td>2019-09-13 08:36:19</td>\n      <td>R_1OpYXEFGzHRUpjM</td>\n      <td>1</td>\n      <td>4</td>\n      <td>70</td>\n      <td>NaN</td>\n      <td>2</td>\n      <td>24</td>\n      <td>...</td>\n      <td>NaN</td>\n      <td>NaN</td>\n      <td>NaN</td>\n      <td>NaN</td>\n      <td>NaN</td>\n      <td>NaN</td>\n      <td>0.681336</td>\n      <td>0.673652</td>\n      <td>NaN</td>\n      <td>NaN</td>\n    </tr>\n    <tr>\n      <th>1</th>\n      <td>2</td>\n      <td>2019-09-13 08:39:09</td>\n      <td>2019-09-13 08:57:06</td>\n      <td>R_2qdrL3J618rxYW0</td>\n      <td>1</td>\n      <td>4</td>\n      <td>79</td>\n      <td>NaN</td>\n      <td>2</td>\n      <td>24</td>\n      <td>...</td>\n      <td>NaN</td>\n      <td>NaN</td>\n      <td>NaN</td>\n      <td>NaN</td>\n      <td>NaN</td>\n      <td>NaN</td>\n      <td>0.681336</td>\n      <td>0.673652</td>\n      <td>NaN</td>\n      <td>NaN</td>\n    </tr>\n    <tr>\n      <th>2</th>\n      <td>3</td>\n      <td>2019-09-13 10:01:19</td>\n      <td>2019-09-13 10:27:29</td>\n      <td>R_USWDAPcQEQiMmNb</td>\n      <td>1</td>\n      <td>4</td>\n      <td>81</td>\n      <td>NaN</td>\n      <td>2</td>\n      <td>22</td>\n      <td>...</td>\n      <td>NaN</td>\n      <td>NaN</td>\n      <td>NaN</td>\n      <td>NaN</td>\n      <td>NaN</td>\n      <td>NaN</td>\n      <td>0.650459</td>\n      <td>0.635656</td>\n      <td>NaN</td>\n      <td>NaN</td>\n    </tr>\n    <tr>\n      <th>3</th>\n      <td>4</td>\n      <td>2019-09-13 10:05:37</td>\n      <td>2019-09-13 10:50:53</td>\n      <td>R_3IQaeDXy0tBzEry</td>\n      <td>1</td>\n      <td>4</td>\n      <td>79</td>\n      <td>NaN</td>\n      <td>1</td>\n      <td>22</td>\n      <td>...</td>\n      <td>NaN</td>\n      <td>NaN</td>\n      <td>NaN</td>\n      <td>NaN</td>\n      <td>NaN</td>\n      <td>NaN</td>\n      <td>0.887253</td>\n      <td>0.856576</td>\n      <td>NaN</td>\n      <td>NaN</td>\n    </tr>\n    <tr>\n      <th>4</th>\n      <td>5</td>\n      <td>2019-09-13 10:05:52</td>\n      <td>2019-09-13 10:32:53</td>\n      <td>R_27WeMQ1asip2cMD</td>\n      <td>1</td>\n      <td>4</td>\n      <td>81</td>\n      <td>NaN</td>\n      <td>2</td>\n      <td>22</td>\n      <td>...</td>\n      <td>NaN</td>\n      <td>NaN</td>\n      <td>NaN</td>\n      <td>NaN</td>\n      <td>NaN</td>\n      <td>NaN</td>\n      <td>1.653808</td>\n      <td>1.651144</td>\n      <td>NaN</td>\n      <td>NaN</td>\n    </tr>\n  </tbody>\n</table>\n<p>5 rows × 621 columns</p>\n</div>"
     },
     "execution_count": 4,
     "metadata": {},
     "output_type": "execute_result"
    }
   ],
   "source": [
    "df.tail()"
   ]
  },
  {
   "cell_type": "code",
   "execution_count": 5,
   "metadata": {},
   "outputs": [],
   "source": [
    "df_sub_no_eth_prop = df[[\"cps19_votechoice\", \n",
    "\"cps19_education\", \n",
    "\"cps19_yob\",\n",
    "\"cps19_province\", \n",
    "\"cps19_gender\", \n",
    "\"cps19_Q_Language\", \n",
    "\"cps19_employment\", \n",
    "\"cps19_income_cat\", \n",
    "\"cps19_income_number\", \n",
    "\"cps19_religion\",\n",
    "\"cps19_sexuality\",\n",
    "\"cps19_marital\",\n",
    "\"cps19_children\"\n",
    "]]"
   ]
  },
  {
   "cell_type": "code",
   "execution_count": 6,
   "metadata": {},
   "outputs": [
    {
     "name": "stdout",
     "output_type": "stream",
     "text": [
      "['cps19_ResponseId', 'cps19_property_1', 'cps19_property_2', 'cps19_property_3', 'cps19_property_4', 'cps19_property_5']\n"
     ]
    }
   ],
   "source": [
    "property_cols = [col for col in df.columns if 'cps19_property' in col][:5]\n",
    "\n",
    "print(property_cols)"
   ]
  },
  {
   "cell_type": "code",
   "execution_count": 8,
   "metadata": {},
   "outputs": [],
   "source": [
    "df_property = df[property_cols]\n",
    "# map ethnicity number to ethnicity text\n"
   ]
  },
  {
   "cell_type": "code",
   "execution_count": 9,
   "metadata": {},
   "outputs": [],
   "source": [
    "property_responses = ['own_residence', 'own_a_business_property_farm_livestock', 'own_stocks_bonds', 'have_savings', 'none']"
   ]
  },
  {
   "cell_type": "code",
   "execution_count": 10,
   "metadata": {},
   "outputs": [],
   "source": [
    "df_property.columns = property_responses"
   ]
  },
  {
   "cell_type": "code",
   "execution_count": 11,
   "metadata": {},
   "outputs": [
    {
     "name": "stdout",
     "output_type": "stream",
     "text": [
      "37822\n",
      "        cps19_ResponseId  own_residence  \\\n",
      "0      R_1OpYXEFGzHRUpjM            NaN   \n",
      "1      R_2qdrL3J618rxYW0            NaN   \n",
      "2      R_USWDAPcQEQiMmNb            1.0   \n",
      "3      R_3IQaeDXy0tBzEry            1.0   \n",
      "4      R_27WeMQ1asip2cMD            1.0   \n",
      "...                  ...            ...   \n",
      "37817  R_3oQICUsIyPYiuPS            NaN   \n",
      "37818  R_1mnjkphmpoqw5Pz            1.0   \n",
      "37819  R_3lAD7fCxbFns4CW            1.0   \n",
      "37820  R_1F3PFOFCfQcvPhj            1.0   \n",
      "37821  R_sjIpmXkzyqwq2qt            NaN   \n",
      "\n",
      "       own_a_business_property_farm_livestock  own_stocks_bonds  have_savings  \\\n",
      "0                                         NaN               NaN           NaN   \n",
      "1                                         NaN               NaN           1.0   \n",
      "2                                         NaN               NaN           1.0   \n",
      "3                                         1.0               NaN           1.0   \n",
      "4                                         NaN               NaN           NaN   \n",
      "...                                       ...               ...           ...   \n",
      "37817                                     NaN               1.0           1.0   \n",
      "37818                                     1.0               1.0           1.0   \n",
      "37819                                     NaN               NaN           NaN   \n",
      "37820                                     1.0               1.0           1.0   \n",
      "37821                                     NaN               NaN           NaN   \n",
      "\n",
      "       none  \n",
      "0       NaN  \n",
      "1       NaN  \n",
      "2       NaN  \n",
      "3       NaN  \n",
      "4       NaN  \n",
      "...     ...  \n",
      "37817   NaN  \n",
      "37818   NaN  \n",
      "37819   NaN  \n",
      "37820   NaN  \n",
      "37821   1.0  \n",
      "\n",
      "[37822 rows x 6 columns]\n"
     ]
    }
   ],
   "source": [
    "print(len(df_property))\n",
    "print(df_property)"
   ]
  },
  {
   "cell_type": "code",
   "execution_count": 12,
   "metadata": {},
   "outputs": [],
   "source": [
    "df_property = df_property.dropna(how='all')"
   ]
  },
  {
   "cell_type": "code",
   "execution_count": 40,
   "metadata": {},
   "outputs": [
    {
     "name": "stdout",
     "output_type": "stream",
     "text": [
      "36330\n"
     ]
    }
   ],
   "source": [
    "print(len(df_property))"
   ]
  },
  {
   "cell_type": "code",
   "execution_count": 13,
   "metadata": {},
   "outputs": [],
   "source": [
    "df_property = df_property.fillna(0)"
   ]
  },
  {
   "cell_type": "code",
   "execution_count": 14,
   "metadata": {},
   "outputs": [
    {
     "name": "stdout",
     "output_type": "stream",
     "text": [
      "        cps19_ResponseId  own_residence  \\\n",
      "0      R_1OpYXEFGzHRUpjM            0.0   \n",
      "1      R_2qdrL3J618rxYW0            0.0   \n",
      "2      R_USWDAPcQEQiMmNb            1.0   \n",
      "3      R_3IQaeDXy0tBzEry            1.0   \n",
      "4      R_27WeMQ1asip2cMD            1.0   \n",
      "...                  ...            ...   \n",
      "37817  R_3oQICUsIyPYiuPS            0.0   \n",
      "37818  R_1mnjkphmpoqw5Pz            1.0   \n",
      "37819  R_3lAD7fCxbFns4CW            1.0   \n",
      "37820  R_1F3PFOFCfQcvPhj            1.0   \n",
      "37821  R_sjIpmXkzyqwq2qt            0.0   \n",
      "\n",
      "       own_a_business_property_farm_livestock  own_stocks_bonds  have_savings  \\\n",
      "0                                         0.0               0.0           0.0   \n",
      "1                                         0.0               0.0           1.0   \n",
      "2                                         0.0               0.0           1.0   \n",
      "3                                         1.0               0.0           1.0   \n",
      "4                                         0.0               0.0           0.0   \n",
      "...                                       ...               ...           ...   \n",
      "37817                                     0.0               1.0           1.0   \n",
      "37818                                     1.0               1.0           1.0   \n",
      "37819                                     0.0               0.0           0.0   \n",
      "37820                                     1.0               1.0           1.0   \n",
      "37821                                     0.0               0.0           0.0   \n",
      "\n",
      "       none  \n",
      "0       0.0  \n",
      "1       0.0  \n",
      "2       0.0  \n",
      "3       0.0  \n",
      "4       0.0  \n",
      "...     ...  \n",
      "37817   0.0  \n",
      "37818   0.0  \n",
      "37819   0.0  \n",
      "37820   0.0  \n",
      "37821   1.0  \n",
      "\n",
      "[37822 rows x 6 columns]\n"
     ]
    }
   ],
   "source": [
    "print(df_property)"
   ]
  },
  {
   "cell_type": "code",
   "execution_count": 43,
   "metadata": {},
   "outputs": [],
   "source": [
    "# join with response id\n",
    "df_responseid = df['cps19_ResponseId']"
   ]
  },
  {
   "cell_type": "code",
   "execution_count": 44,
   "metadata": {},
   "outputs": [],
   "source": [
    "df_final = pd.concat([df_responseid, df_property], axis=1)"
   ]
  },
  {
   "cell_type": "code",
   "execution_count": 45,
   "metadata": {},
   "outputs": [
    {
     "name": "stdout",
     "output_type": "stream",
     "text": [
      "        cps19_ResponseId  own_residence  \\\n",
      "0      R_1OpYXEFGzHRUpjM            NaN   \n",
      "1      R_2qdrL3J618rxYW0            0.0   \n",
      "2      R_USWDAPcQEQiMmNb            1.0   \n",
      "3      R_3IQaeDXy0tBzEry            1.0   \n",
      "4      R_27WeMQ1asip2cMD            1.0   \n",
      "...                  ...            ...   \n",
      "37817  R_3oQICUsIyPYiuPS            0.0   \n",
      "37818  R_1mnjkphmpoqw5Pz            1.0   \n",
      "37819  R_3lAD7fCxbFns4CW            1.0   \n",
      "37820  R_1F3PFOFCfQcvPhj            1.0   \n",
      "37821  R_sjIpmXkzyqwq2qt            0.0   \n",
      "\n",
      "       own_a_business_property_farm_livestock  own_stocks_bonds  have_savings  \\\n",
      "0                                         NaN               NaN           NaN   \n",
      "1                                         0.0               0.0           1.0   \n",
      "2                                         0.0               0.0           1.0   \n",
      "3                                         1.0               0.0           1.0   \n",
      "4                                         0.0               0.0           0.0   \n",
      "...                                       ...               ...           ...   \n",
      "37817                                     0.0               1.0           1.0   \n",
      "37818                                     1.0               1.0           1.0   \n",
      "37819                                     0.0               0.0           0.0   \n",
      "37820                                     1.0               1.0           1.0   \n",
      "37821                                     0.0               0.0           0.0   \n",
      "\n",
      "       none  \n",
      "0       NaN  \n",
      "1       0.0  \n",
      "2       0.0  \n",
      "3       0.0  \n",
      "4       0.0  \n",
      "...     ...  \n",
      "37817   0.0  \n",
      "37818   0.0  \n",
      "37819   0.0  \n",
      "37820   0.0  \n",
      "37821   1.0  \n",
      "\n",
      "[37822 rows x 6 columns]\n"
     ]
    }
   ],
   "source": [
    "print(df_final)"
   ]
  },
  {
   "cell_type": "code",
   "execution_count": 46,
   "metadata": {},
   "outputs": [],
   "source": [
    "df_final.to_csv(\"cesr_property\")"
   ]
  },
  {
   "cell_type": "code",
   "execution_count": 47,
   "metadata": {},
   "outputs": [],
   "source": [
    "df_sub_no_eth_prop.to_csv(\"cesr_no_ethnicity_property\")"
   ]
  },
  {
   "cell_type": "code",
   "execution_count": 47,
   "metadata": {},
   "outputs": [],
   "source": []
  }
 ],
 "metadata": {
  "kernelspec": {
   "name": "base",
   "language": "python",
   "display_name": "Python (base)"
  },
  "language_info": {
   "codemirror_mode": {
    "name": "ipython",
    "version": 3
   },
   "file_extension": ".py",
   "mimetype": "text/x-python",
   "name": "python",
   "nbconvert_exporter": "python",
   "pygments_lexer": "ipython3",
   "version": "3.7.3"
  }
 },
 "nbformat": 4,
 "nbformat_minor": 4
}