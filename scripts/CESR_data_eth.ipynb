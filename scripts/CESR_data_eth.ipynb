{
 "cells": [
  {
   "cell_type": "code",
   "execution_count": 289,
   "metadata": {},
   "outputs": [],
   "source": [
    "import pandas as pd"
   ]
  },
  {
   "cell_type": "code",
   "execution_count": 290,
   "metadata": {},
   "outputs": [
    {
     "name": "stdout",
     "output_type": "stream",
     "text": [
      "done\n"
     ]
    },
    {
     "name": "stderr",
     "output_type": "stream",
     "text": [
      "C:\\Users\\ericz\\anaconda3\\lib\\site-packages\\IPython\\core\\interactiveshell.py:3146: DtypeWarning: Columns (25,27,31,33,39,179,181,243,276,299,302,316,327,362,424,425,431,468,538,541,578,579,582,584) have mixed types.Specify dtype option on import or set low_memory=False.\n",
      "  has_raised = await self.run_ast_nodes(code_ast.body, cell_name,\n"
     ]
    }
   ],
   "source": [
    "df = pd.read_csv(\"ces2019_web.csv\", encoding='latin-1')\n",
    "print('done')"
   ]
  },
  {
   "cell_type": "code",
   "execution_count": 291,
   "metadata": {},
   "outputs": [
    {
     "data": {
      "text/plain": "       Unnamed: 0      cps19_StartDate        cps19_EndDate  \\\n37817       37818  2019-10-21 07:00:16  2019-10-21 07:19:19   \n37818       37819  2019-10-21 07:42:56  2019-10-21 08:54:08   \n37819       37820  2019-10-21 08:31:22  2019-10-21 08:50:44   \n37820       37821  2019-10-21 08:31:47  2019-10-21 08:56:06   \n37821       37822  2019-10-21 08:41:10  2019-10-21 08:55:02   \n\n        cps19_ResponseId  cps19_consent  cps19_citizenship  cps19_yob  \\\n37817  R_3oQICUsIyPYiuPS              1                  4         42   \n37818  R_1mnjkphmpoqw5Pz              1                  4         72   \n37819  R_3lAD7fCxbFns4CW              1                  4         50   \n37820  R_1F3PFOFCfQcvPhj              1                  4         64   \n37821  R_sjIpmXkzyqwq2qt              1                  5         58   \n\n       cps19_yob_2001_age  cps19_gender  cps19_province  ...  split_vol_assoc  \\\n37817                 NaN             1              24  ...              0.0   \n37818                 NaN             1              22  ...              NaN   \n37819                 NaN             2              25  ...              NaN   \n37820                 NaN             1              22  ...              NaN   \n37821                 NaN             1              22  ...              NaN   \n\n       pes19_data_quality pes19_panel  pes19_age pes19_duplicates_flag  \\\n37817                 0.0     pes19_r       58.0                   0.0   \n37818                 NaN         NaN        NaN                   NaN   \n37819                 NaN         NaN        NaN                   NaN   \n37820                 NaN         NaN        NaN                   NaN   \n37821                 NaN         NaN        NaN                   NaN   \n\n      pes19_inattentive  cps19_weight_general_all  \\\n37817               0.0                  0.745574   \n37818               NaN                  0.887253   \n37819               NaN                  0.689530   \n37820               NaN                  1.254407   \n37821               NaN                  0.782036   \n\n      cps19_weight_general_restricted  pes19_weight_general_all  \\\n37817                        0.740583                  0.688558   \n37818                             NaN                       NaN   \n37819                        0.699415                       NaN   \n37820                        1.256288                       NaN   \n37821                        0.771724                       NaN   \n\n       pes19_weight_general_restricted  \n37817                         0.635228  \n37818                              NaN  \n37819                              NaN  \n37820                              NaN  \n37821                              NaN  \n\n[5 rows x 621 columns]",
      "text/html": "<div>\n<style scoped>\n    .dataframe tbody tr th:only-of-type {\n        vertical-align: middle;\n    }\n\n    .dataframe tbody tr th {\n        vertical-align: top;\n    }\n\n    .dataframe thead th {\n        text-align: right;\n    }\n</style>\n<table border=\"1\" class=\"dataframe\">\n  <thead>\n    <tr style=\"text-align: right;\">\n      <th></th>\n      <th>Unnamed: 0</th>\n      <th>cps19_StartDate</th>\n      <th>cps19_EndDate</th>\n      <th>cps19_ResponseId</th>\n      <th>cps19_consent</th>\n      <th>cps19_citizenship</th>\n      <th>cps19_yob</th>\n      <th>cps19_yob_2001_age</th>\n      <th>cps19_gender</th>\n      <th>cps19_province</th>\n      <th>...</th>\n      <th>split_vol_assoc</th>\n      <th>pes19_data_quality</th>\n      <th>pes19_panel</th>\n      <th>pes19_age</th>\n      <th>pes19_duplicates_flag</th>\n      <th>pes19_inattentive</th>\n      <th>cps19_weight_general_all</th>\n      <th>cps19_weight_general_restricted</th>\n      <th>pes19_weight_general_all</th>\n      <th>pes19_weight_general_restricted</th>\n    </tr>\n  </thead>\n  <tbody>\n    <tr>\n      <th>37817</th>\n      <td>37818</td>\n      <td>2019-10-21 07:00:16</td>\n      <td>2019-10-21 07:19:19</td>\n      <td>R_3oQICUsIyPYiuPS</td>\n      <td>1</td>\n      <td>4</td>\n      <td>42</td>\n      <td>NaN</td>\n      <td>1</td>\n      <td>24</td>\n      <td>...</td>\n      <td>0.0</td>\n      <td>0.0</td>\n      <td>pes19_r</td>\n      <td>58.0</td>\n      <td>0.0</td>\n      <td>0.0</td>\n      <td>0.745574</td>\n      <td>0.740583</td>\n      <td>0.688558</td>\n      <td>0.635228</td>\n    </tr>\n    <tr>\n      <th>37818</th>\n      <td>37819</td>\n      <td>2019-10-21 07:42:56</td>\n      <td>2019-10-21 08:54:08</td>\n      <td>R_1mnjkphmpoqw5Pz</td>\n      <td>1</td>\n      <td>4</td>\n      <td>72</td>\n      <td>NaN</td>\n      <td>1</td>\n      <td>22</td>\n      <td>...</td>\n      <td>NaN</td>\n      <td>NaN</td>\n      <td>NaN</td>\n      <td>NaN</td>\n      <td>NaN</td>\n      <td>NaN</td>\n      <td>0.887253</td>\n      <td>NaN</td>\n      <td>NaN</td>\n      <td>NaN</td>\n    </tr>\n    <tr>\n      <th>37819</th>\n      <td>37820</td>\n      <td>2019-10-21 08:31:22</td>\n      <td>2019-10-21 08:50:44</td>\n      <td>R_3lAD7fCxbFns4CW</td>\n      <td>1</td>\n      <td>4</td>\n      <td>50</td>\n      <td>NaN</td>\n      <td>2</td>\n      <td>25</td>\n      <td>...</td>\n      <td>NaN</td>\n      <td>NaN</td>\n      <td>NaN</td>\n      <td>NaN</td>\n      <td>NaN</td>\n      <td>NaN</td>\n      <td>0.689530</td>\n      <td>0.699415</td>\n      <td>NaN</td>\n      <td>NaN</td>\n    </tr>\n    <tr>\n      <th>37820</th>\n      <td>37821</td>\n      <td>2019-10-21 08:31:47</td>\n      <td>2019-10-21 08:56:06</td>\n      <td>R_1F3PFOFCfQcvPhj</td>\n      <td>1</td>\n      <td>4</td>\n      <td>64</td>\n      <td>NaN</td>\n      <td>1</td>\n      <td>22</td>\n      <td>...</td>\n      <td>NaN</td>\n      <td>NaN</td>\n      <td>NaN</td>\n      <td>NaN</td>\n      <td>NaN</td>\n      <td>NaN</td>\n      <td>1.254407</td>\n      <td>1.256288</td>\n      <td>NaN</td>\n      <td>NaN</td>\n    </tr>\n    <tr>\n      <th>37821</th>\n      <td>37822</td>\n      <td>2019-10-21 08:41:10</td>\n      <td>2019-10-21 08:55:02</td>\n      <td>R_sjIpmXkzyqwq2qt</td>\n      <td>1</td>\n      <td>5</td>\n      <td>58</td>\n      <td>NaN</td>\n      <td>1</td>\n      <td>22</td>\n      <td>...</td>\n      <td>NaN</td>\n      <td>NaN</td>\n      <td>NaN</td>\n      <td>NaN</td>\n      <td>NaN</td>\n      <td>NaN</td>\n      <td>0.782036</td>\n      <td>0.771724</td>\n      <td>NaN</td>\n      <td>NaN</td>\n    </tr>\n  </tbody>\n</table>\n<p>5 rows × 621 columns</p>\n</div>"
     },
     "execution_count": 291,
     "metadata": {},
     "output_type": "execute_result"
    }
   ],
   "source": [
    "df.tail()"
   ]
  },
  {
   "cell_type": "code",
   "execution_count": 292,
   "metadata": {},
   "outputs": [],
   "source": [
    "df_sub_no_eth_prop = df[[\"cps19_votechoice\", \n",
    "\"cps19_education\", \n",
    "\"cps19_yob\",\n",
    "\"cps19_province\", \n",
    "\"cps19_gender\", \n",
    "\"cps19_Q_Language\", \n",
    "\"cps19_employment\", \n",
    "\"cps19_income_cat\", \n",
    "\"cps19_income_number\", \n",
    "\"cps19_religion\",\n",
    "\"cps19_sexuality\",\n",
    "\"cps19_marital\",\n",
    "\"cps19_children\"\n",
    "]]"
   ]
  },
  {
   "cell_type": "code",
   "execution_count": 293,
   "metadata": {},
   "outputs": [
    {
     "name": "stdout",
     "output_type": "stream",
     "text": [
      "['cps19_ethnicity_23', 'cps19_ethnicity_24', 'cps19_ethnicity_25', 'cps19_ethnicity_26', 'cps19_ethnicity_27', 'cps19_ethnicity_28', 'cps19_ethnicity_29', 'cps19_ethnicity_30', 'cps19_ethnicity_31', 'cps19_ethnicity_32', 'cps19_ethnicity_33', 'cps19_ethnicity_34', 'cps19_ethnicity_35', 'cps19_ethnicity_36', 'cps19_ethnicity_37', 'cps19_ethnicity_38', 'cps19_ethnicity_39', 'cps19_ethnicity_40', 'cps19_ethnicity_41', 'cps19_ethnicity_42']\n"
     ]
    }
   ],
   "source": [
    "lst_eth = []\n",
    "for i in range(23, 43):\n",
    "    lst_eth.append('cps19_ethnicity_' + str(i))\n",
    "print(lst_eth)"
   ]
  },
  {
   "cell_type": "code",
   "execution_count": 294,
   "metadata": {},
   "outputs": [],
   "source": [
    "df_eth = df[lst_eth]\n",
    "# map ethnicity number to ethnicity text\n"
   ]
  },
  {
   "cell_type": "code",
   "execution_count": 295,
   "metadata": {},
   "outputs": [],
   "source": [
    "ethnicities = ['First Nations', 'British', 'Chinese', 'Dutch', 'English',\n",
    "               'French', 'French Canadian', 'German', 'Hispanic', 'Indian', 'Inuit',\n",
    "              'Irish', 'Italian', 'Metis', 'Polish', 'Quebecois', 'Scottish', 'Ukrainian',\n",
    "               'cps19_ethnicity_41', 'cps19_ethnicity_42']"
   ]
  },
  {
   "cell_type": "code",
   "execution_count": 296,
   "metadata": {},
   "outputs": [],
   "source": [
    "df_eth.columns = ethnicities"
   ]
  },
  {
   "cell_type": "code",
   "execution_count": 297,
   "metadata": {},
   "outputs": [
    {
     "name": "stdout",
     "output_type": "stream",
     "text": [
      "37822\n",
      "       First Nations  British  Chinese  Dutch  English  French  \\\n",
      "0                NaN      NaN      NaN    NaN      NaN     NaN   \n",
      "1                NaN      NaN      NaN    NaN      NaN     NaN   \n",
      "2                NaN      NaN      NaN    NaN      NaN     NaN   \n",
      "3                NaN      1.0      NaN    NaN      NaN     NaN   \n",
      "4                NaN      NaN      NaN    NaN      NaN     NaN   \n",
      "...              ...      ...      ...    ...      ...     ...   \n",
      "37817            NaN      NaN      NaN    NaN      NaN     NaN   \n",
      "37818            NaN      NaN      NaN    NaN      NaN     NaN   \n",
      "37819            NaN      NaN      NaN    NaN      NaN     NaN   \n",
      "37820            NaN      NaN      NaN    NaN      NaN     1.0   \n",
      "37821            NaN      NaN      NaN    NaN      NaN     NaN   \n",
      "\n",
      "       French Canadian  German  Hispanic  Indian  Inuit  Irish  Italian  \\\n",
      "0                  1.0     NaN       NaN     NaN    NaN    NaN      NaN   \n",
      "1                  1.0     NaN       NaN     NaN    NaN    1.0      NaN   \n",
      "2                  NaN     NaN       NaN     NaN    NaN    NaN      1.0   \n",
      "3                  NaN     NaN       NaN     NaN    NaN    NaN      1.0   \n",
      "4                  NaN     NaN       NaN     NaN    NaN    NaN      NaN   \n",
      "...                ...     ...       ...     ...    ...    ...      ...   \n",
      "37817              1.0     NaN       NaN     NaN    NaN    NaN      NaN   \n",
      "37818              NaN     1.0       NaN     NaN    NaN    NaN      NaN   \n",
      "37819              NaN     NaN       NaN     NaN    NaN    NaN      NaN   \n",
      "37820              NaN     NaN       NaN     NaN    NaN    NaN      NaN   \n",
      "37821              NaN     NaN       NaN     1.0    NaN    NaN      NaN   \n",
      "\n",
      "       Metis  Polish  Quebecois  Scottish  Ukrainian  cps19_ethnicity_41  \\\n",
      "0        NaN     NaN        NaN       NaN        NaN                 NaN   \n",
      "1        NaN     NaN        1.0       1.0        NaN                 NaN   \n",
      "2        NaN     NaN        NaN       NaN        NaN                 NaN   \n",
      "3        NaN     NaN        NaN       NaN        NaN                 NaN   \n",
      "4        NaN     NaN        NaN       NaN        NaN                 1.0   \n",
      "...      ...     ...        ...       ...        ...                 ...   \n",
      "37817    NaN     NaN        NaN       NaN        NaN                 NaN   \n",
      "37818    NaN     NaN        NaN       NaN        NaN                 1.0   \n",
      "37819    NaN     NaN        NaN       NaN        NaN                 NaN   \n",
      "37820    NaN     NaN        NaN       NaN        NaN                 NaN   \n",
      "37821    NaN     NaN        NaN       NaN        NaN                 NaN   \n",
      "\n",
      "       cps19_ethnicity_42  \n",
      "0                     NaN  \n",
      "1                     NaN  \n",
      "2                     NaN  \n",
      "3                     NaN  \n",
      "4                     NaN  \n",
      "...                   ...  \n",
      "37817                 NaN  \n",
      "37818                 NaN  \n",
      "37819                 NaN  \n",
      "37820                 NaN  \n",
      "37821                 NaN  \n",
      "\n",
      "[37822 rows x 20 columns]\n"
     ]
    }
   ],
   "source": [
    "print(len(df_eth))\n",
    "print(df_eth)"
   ]
  },
  {
   "cell_type": "code",
   "execution_count": 298,
   "metadata": {},
   "outputs": [],
   "source": [
    "# drop the rows with more than one ethnic group\n",
    "manyethnic_rows = df_eth[df_eth == 1].sum(axis=1)\n",
    "df_eth = df_eth[manyethnic_rows <= 1]\n",
    "ethnicities_used = ['First Nations', 'English', 'Scottish', 'French', 'Irish', 'German', 'Chinese', 'Italian', 'Indian']\n",
    "df_eth = df_eth[ethnicities_used]"
   ]
  },
  {
   "cell_type": "code",
   "execution_count": 299,
   "metadata": {},
   "outputs": [
    {
     "name": "stdout",
     "output_type": "stream",
     "text": [
      "12555\n",
      "25267\n",
      "       First Nations  English  Scottish  French  Irish  German  Chinese  \\\n",
      "0                NaN      NaN       NaN     NaN    NaN     NaN      NaN   \n",
      "2                NaN      NaN       NaN     NaN    NaN     NaN      NaN   \n",
      "4                NaN      NaN       NaN     NaN    NaN     NaN      NaN   \n",
      "6                NaN      NaN       NaN     NaN    NaN     NaN      NaN   \n",
      "7                NaN      NaN       NaN     NaN    NaN     1.0      NaN   \n",
      "...              ...      ...       ...     ...    ...     ...      ...   \n",
      "37816            NaN      NaN       NaN     NaN    NaN     NaN      NaN   \n",
      "37817            NaN      NaN       NaN     NaN    NaN     NaN      NaN   \n",
      "37819            NaN      NaN       NaN     NaN    NaN     NaN      NaN   \n",
      "37820            NaN      NaN       NaN     1.0    NaN     NaN      NaN   \n",
      "37821            NaN      NaN       NaN     NaN    NaN     NaN      NaN   \n",
      "\n",
      "       Italian  Indian  \n",
      "0          NaN     NaN  \n",
      "2          1.0     NaN  \n",
      "4          NaN     NaN  \n",
      "6          NaN     NaN  \n",
      "7          NaN     NaN  \n",
      "...        ...     ...  \n",
      "37816      NaN     NaN  \n",
      "37817      NaN     NaN  \n",
      "37819      NaN     NaN  \n",
      "37820      NaN     NaN  \n",
      "37821      NaN     1.0  \n",
      "\n",
      "[25267 rows x 9 columns]\n"
     ]
    }
   ],
   "source": [
    "print(len(manyethnic_rows[manyethnic_rows >1]))\n",
    "print(len(df_eth))\n",
    "print(df_eth)"
   ]
  },
  {
   "cell_type": "code",
   "execution_count": 300,
   "metadata": {},
   "outputs": [],
   "source": [
    "# fill the na's with 0's\n",
    "df_eth = df_eth.fillna(0)\n",
    "# convert all 0 columns to new column\n",
    "multiethnic_rows = df_eth[df_eth == 1].sum(axis=1)\n",
    "candaian_rows = []\n",
    "for row in multiethnic_rows:\n",
    "    if row == 0:\n",
    "        candaian_rows.append(1.0)\n",
    "    else:\n",
    "        candaian_rows.append(0.0)\n",
    "df_eth['Canadian'] = candaian_rows"
   ]
  },
  {
   "cell_type": "code",
   "execution_count": 301,
   "metadata": {},
   "outputs": [
    {
     "name": "stdout",
     "output_type": "stream",
     "text": [
      "       First Nations  English  Scottish  French  Irish  German  Chinese  \\\n",
      "0                0.0      0.0       0.0     0.0    0.0     0.0      0.0   \n",
      "2                0.0      0.0       0.0     0.0    0.0     0.0      0.0   \n",
      "4                0.0      0.0       0.0     0.0    0.0     0.0      0.0   \n",
      "6                0.0      0.0       0.0     0.0    0.0     0.0      0.0   \n",
      "7                0.0      0.0       0.0     0.0    0.0     1.0      0.0   \n",
      "...              ...      ...       ...     ...    ...     ...      ...   \n",
      "37816            0.0      0.0       0.0     0.0    0.0     0.0      0.0   \n",
      "37817            0.0      0.0       0.0     0.0    0.0     0.0      0.0   \n",
      "37819            0.0      0.0       0.0     0.0    0.0     0.0      0.0   \n",
      "37820            0.0      0.0       0.0     1.0    0.0     0.0      0.0   \n",
      "37821            0.0      0.0       0.0     0.0    0.0     0.0      0.0   \n",
      "\n",
      "       Italian  Indian  Canadian  \n",
      "0          0.0     0.0       1.0  \n",
      "2          1.0     0.0       0.0  \n",
      "4          0.0     0.0       1.0  \n",
      "6          0.0     0.0       1.0  \n",
      "7          0.0     0.0       0.0  \n",
      "...        ...     ...       ...  \n",
      "37816      0.0     0.0       1.0  \n",
      "37817      0.0     0.0       1.0  \n",
      "37819      0.0     0.0       1.0  \n",
      "37820      0.0     0.0       0.0  \n",
      "37821      0.0     1.0       0.0  \n",
      "\n",
      "[25267 rows x 10 columns]\n"
     ]
    }
   ],
   "source": [
    "print(df_eth)"
   ]
  },
  {
   "cell_type": "code",
   "execution_count": 302,
   "metadata": {},
   "outputs": [],
   "source": [
    "# join with response id\n",
    "df_responseid = df['cps19_ResponseId']"
   ]
  },
  {
   "cell_type": "code",
   "execution_count": 303,
   "metadata": {},
   "outputs": [
    {
     "name": "stdout",
     "output_type": "stream",
     "text": [
      "        cps19_ResponseId  First Nations  English  Scottish  French  Irish  \\\n",
      "0      R_1OpYXEFGzHRUpjM            0.0      0.0       0.0     0.0    0.0   \n",
      "1      R_2qdrL3J618rxYW0            NaN      NaN       NaN     NaN    NaN   \n",
      "2      R_USWDAPcQEQiMmNb            0.0      0.0       0.0     0.0    0.0   \n",
      "3      R_3IQaeDXy0tBzEry            NaN      NaN       NaN     NaN    NaN   \n",
      "4      R_27WeMQ1asip2cMD            0.0      0.0       0.0     0.0    0.0   \n",
      "...                  ...            ...      ...       ...     ...    ...   \n",
      "37817  R_3oQICUsIyPYiuPS            0.0      0.0       0.0     0.0    0.0   \n",
      "37818  R_1mnjkphmpoqw5Pz            NaN      NaN       NaN     NaN    NaN   \n",
      "37819  R_3lAD7fCxbFns4CW            0.0      0.0       0.0     0.0    0.0   \n",
      "37820  R_1F3PFOFCfQcvPhj            0.0      0.0       0.0     1.0    0.0   \n",
      "37821  R_sjIpmXkzyqwq2qt            0.0      0.0       0.0     0.0    0.0   \n",
      "\n",
      "       German  Chinese  Italian  Indian  Canadian  \n",
      "0         0.0      0.0      0.0     0.0       1.0  \n",
      "1         NaN      NaN      NaN     NaN       NaN  \n",
      "2         0.0      0.0      1.0     0.0       0.0  \n",
      "3         NaN      NaN      NaN     NaN       NaN  \n",
      "4         0.0      0.0      0.0     0.0       1.0  \n",
      "...       ...      ...      ...     ...       ...  \n",
      "37817     0.0      0.0      0.0     0.0       1.0  \n",
      "37818     NaN      NaN      NaN     NaN       NaN  \n",
      "37819     0.0      0.0      0.0     0.0       1.0  \n",
      "37820     0.0      0.0      0.0     0.0       0.0  \n",
      "37821     0.0      0.0      0.0     1.0       0.0  \n",
      "\n",
      "[37822 rows x 11 columns]\n"
     ]
    }
   ],
   "source": [
    "df_final = pd.concat([df_responseid, df_eth], axis=1)\n",
    "print(df_final)"
   ]
  },
  {
   "cell_type": "code",
   "execution_count": 304,
   "outputs": [
    {
     "name": "stdout",
     "output_type": "stream",
     "text": [
      "        cps19_ResponseId  First Nations  English  Scottish  French  Irish  \\\n",
      "0      R_1OpYXEFGzHRUpjM            0.0      0.0       0.0     0.0    0.0   \n",
      "2      R_USWDAPcQEQiMmNb            0.0      0.0       0.0     0.0    0.0   \n",
      "4      R_27WeMQ1asip2cMD            0.0      0.0       0.0     0.0    0.0   \n",
      "6      R_1Iu8R1UlYzVMycz            0.0      0.0       0.0     0.0    0.0   \n",
      "7      R_2EcS26hqrcVYlab            0.0      0.0       0.0     0.0    0.0   \n",
      "...                  ...            ...      ...       ...     ...    ...   \n",
      "37816  R_3lxCk8GWz1MJYg5            0.0      0.0       0.0     0.0    0.0   \n",
      "37817  R_3oQICUsIyPYiuPS            0.0      0.0       0.0     0.0    0.0   \n",
      "37819  R_3lAD7fCxbFns4CW            0.0      0.0       0.0     0.0    0.0   \n",
      "37820  R_1F3PFOFCfQcvPhj            0.0      0.0       0.0     1.0    0.0   \n",
      "37821  R_sjIpmXkzyqwq2qt            0.0      0.0       0.0     0.0    0.0   \n",
      "\n",
      "       German  Chinese  Italian  Indian  Canadian  \n",
      "0         0.0      0.0      0.0     0.0       1.0  \n",
      "2         0.0      0.0      1.0     0.0       0.0  \n",
      "4         0.0      0.0      0.0     0.0       1.0  \n",
      "6         0.0      0.0      0.0     0.0       1.0  \n",
      "7         1.0      0.0      0.0     0.0       0.0  \n",
      "...       ...      ...      ...     ...       ...  \n",
      "37816     0.0      0.0      0.0     0.0       1.0  \n",
      "37817     0.0      0.0      0.0     0.0       1.0  \n",
      "37819     0.0      0.0      0.0     0.0       1.0  \n",
      "37820     0.0      0.0      0.0     0.0       0.0  \n",
      "37821     0.0      0.0      0.0     1.0       0.0  \n",
      "\n",
      "[25267 rows x 11 columns]\n"
     ]
    }
   ],
   "source": [
    "df_final = df_final.dropna()\n",
    "print(df_final)"
   ],
   "metadata": {
    "collapsed": false,
    "pycharm": {
     "name": "#%%\n"
    }
   }
  },
  {
   "cell_type": "code",
   "execution_count": 305,
   "metadata": {},
   "outputs": [
    {
     "ename": "KeyError",
     "evalue": "('cps19_ResponseId', 'ethnicity')",
     "output_type": "error",
     "traceback": [
      "\u001B[1;31m---------------------------------------------------------------------------\u001B[0m",
      "\u001B[1;31mKeyError\u001B[0m                                  Traceback (most recent call last)",
      "\u001B[1;32m~\\anaconda3\\lib\\site-packages\\pandas\\core\\indexes\\base.py\u001B[0m in \u001B[0;36mget_loc\u001B[1;34m(self, key, method, tolerance)\u001B[0m\n\u001B[0;32m   2897\u001B[0m             \u001B[1;32mtry\u001B[0m\u001B[1;33m:\u001B[0m\u001B[1;33m\u001B[0m\u001B[1;33m\u001B[0m\u001B[0m\n\u001B[1;32m-> 2898\u001B[1;33m                 \u001B[1;32mreturn\u001B[0m \u001B[0mself\u001B[0m\u001B[1;33m.\u001B[0m\u001B[0m_engine\u001B[0m\u001B[1;33m.\u001B[0m\u001B[0mget_loc\u001B[0m\u001B[1;33m(\u001B[0m\u001B[0mcasted_key\u001B[0m\u001B[1;33m)\u001B[0m\u001B[1;33m\u001B[0m\u001B[1;33m\u001B[0m\u001B[0m\n\u001B[0m\u001B[0;32m   2899\u001B[0m             \u001B[1;32mexcept\u001B[0m \u001B[0mKeyError\u001B[0m \u001B[1;32mas\u001B[0m \u001B[0merr\u001B[0m\u001B[1;33m:\u001B[0m\u001B[1;33m\u001B[0m\u001B[1;33m\u001B[0m\u001B[0m\n",
      "\u001B[1;32mpandas\\_libs\\index.pyx\u001B[0m in \u001B[0;36mpandas._libs.index.IndexEngine.get_loc\u001B[1;34m()\u001B[0m\n",
      "\u001B[1;32mpandas\\_libs\\index.pyx\u001B[0m in \u001B[0;36mpandas._libs.index.IndexEngine.get_loc\u001B[1;34m()\u001B[0m\n",
      "\u001B[1;32mpandas\\_libs\\hashtable_class_helper.pxi\u001B[0m in \u001B[0;36mpandas._libs.hashtable.PyObjectHashTable.get_item\u001B[1;34m()\u001B[0m\n",
      "\u001B[1;32mpandas\\_libs\\hashtable_class_helper.pxi\u001B[0m in \u001B[0;36mpandas._libs.hashtable.PyObjectHashTable.get_item\u001B[1;34m()\u001B[0m\n",
      "\u001B[1;31mKeyError\u001B[0m: ('cps19_ResponseId', 'ethnicity')",
      "\nThe above exception was the direct cause of the following exception:\n",
      "\u001B[1;31mKeyError\u001B[0m                                  Traceback (most recent call last)",
      "\u001B[1;32m<ipython-input-305-e9fb0df46bb7>\u001B[0m in \u001B[0;36m<module>\u001B[1;34m\u001B[0m\n\u001B[0;32m      8\u001B[0m             \u001B[0methnic_groups\u001B[0m\u001B[1;33m.\u001B[0m\u001B[0mappend\u001B[0m\u001B[1;33m(\u001B[0m\u001B[0methnicities_used\u001B[0m\u001B[1;33m[\u001B[0m\u001B[0mi\u001B[0m\u001B[1;33m-\u001B[0m\u001B[1;36m2\u001B[0m\u001B[1;33m]\u001B[0m\u001B[1;33m)\u001B[0m\u001B[1;33m\u001B[0m\u001B[1;33m\u001B[0m\u001B[0m\n\u001B[0;32m      9\u001B[0m \u001B[0mdf_final\u001B[0m\u001B[1;33m[\u001B[0m\u001B[1;34m\"ethnicity\"\u001B[0m\u001B[1;33m]\u001B[0m \u001B[1;33m=\u001B[0m \u001B[0methnic_groups\u001B[0m\u001B[1;33m\u001B[0m\u001B[1;33m\u001B[0m\u001B[0m\n\u001B[1;32m---> 10\u001B[1;33m \u001B[0mdf_final\u001B[0m \u001B[1;33m=\u001B[0m \u001B[0mdf_final\u001B[0m\u001B[1;33m[\u001B[0m\u001B[1;34m\"cps19_ResponseId\"\u001B[0m\u001B[1;33m,\u001B[0m\u001B[1;34m\"ethnicity\"\u001B[0m\u001B[1;33m]\u001B[0m\u001B[1;33m\u001B[0m\u001B[1;33m\u001B[0m\u001B[0m\n\u001B[0m",
      "\u001B[1;32m~\\anaconda3\\lib\\site-packages\\pandas\\core\\frame.py\u001B[0m in \u001B[0;36m__getitem__\u001B[1;34m(self, key)\u001B[0m\n\u001B[0;32m   2904\u001B[0m             \u001B[1;32mif\u001B[0m \u001B[0mself\u001B[0m\u001B[1;33m.\u001B[0m\u001B[0mcolumns\u001B[0m\u001B[1;33m.\u001B[0m\u001B[0mnlevels\u001B[0m \u001B[1;33m>\u001B[0m \u001B[1;36m1\u001B[0m\u001B[1;33m:\u001B[0m\u001B[1;33m\u001B[0m\u001B[1;33m\u001B[0m\u001B[0m\n\u001B[0;32m   2905\u001B[0m                 \u001B[1;32mreturn\u001B[0m \u001B[0mself\u001B[0m\u001B[1;33m.\u001B[0m\u001B[0m_getitem_multilevel\u001B[0m\u001B[1;33m(\u001B[0m\u001B[0mkey\u001B[0m\u001B[1;33m)\u001B[0m\u001B[1;33m\u001B[0m\u001B[1;33m\u001B[0m\u001B[0m\n\u001B[1;32m-> 2906\u001B[1;33m             \u001B[0mindexer\u001B[0m \u001B[1;33m=\u001B[0m \u001B[0mself\u001B[0m\u001B[1;33m.\u001B[0m\u001B[0mcolumns\u001B[0m\u001B[1;33m.\u001B[0m\u001B[0mget_loc\u001B[0m\u001B[1;33m(\u001B[0m\u001B[0mkey\u001B[0m\u001B[1;33m)\u001B[0m\u001B[1;33m\u001B[0m\u001B[1;33m\u001B[0m\u001B[0m\n\u001B[0m\u001B[0;32m   2907\u001B[0m             \u001B[1;32mif\u001B[0m \u001B[0mis_integer\u001B[0m\u001B[1;33m(\u001B[0m\u001B[0mindexer\u001B[0m\u001B[1;33m)\u001B[0m\u001B[1;33m:\u001B[0m\u001B[1;33m\u001B[0m\u001B[1;33m\u001B[0m\u001B[0m\n\u001B[0;32m   2908\u001B[0m                 \u001B[0mindexer\u001B[0m \u001B[1;33m=\u001B[0m \u001B[1;33m[\u001B[0m\u001B[0mindexer\u001B[0m\u001B[1;33m]\u001B[0m\u001B[1;33m\u001B[0m\u001B[1;33m\u001B[0m\u001B[0m\n",
      "\u001B[1;32m~\\anaconda3\\lib\\site-packages\\pandas\\core\\indexes\\base.py\u001B[0m in \u001B[0;36mget_loc\u001B[1;34m(self, key, method, tolerance)\u001B[0m\n\u001B[0;32m   2898\u001B[0m                 \u001B[1;32mreturn\u001B[0m \u001B[0mself\u001B[0m\u001B[1;33m.\u001B[0m\u001B[0m_engine\u001B[0m\u001B[1;33m.\u001B[0m\u001B[0mget_loc\u001B[0m\u001B[1;33m(\u001B[0m\u001B[0mcasted_key\u001B[0m\u001B[1;33m)\u001B[0m\u001B[1;33m\u001B[0m\u001B[1;33m\u001B[0m\u001B[0m\n\u001B[0;32m   2899\u001B[0m             \u001B[1;32mexcept\u001B[0m \u001B[0mKeyError\u001B[0m \u001B[1;32mas\u001B[0m \u001B[0merr\u001B[0m\u001B[1;33m:\u001B[0m\u001B[1;33m\u001B[0m\u001B[1;33m\u001B[0m\u001B[0m\n\u001B[1;32m-> 2900\u001B[1;33m                 \u001B[1;32mraise\u001B[0m \u001B[0mKeyError\u001B[0m\u001B[1;33m(\u001B[0m\u001B[0mkey\u001B[0m\u001B[1;33m)\u001B[0m \u001B[1;32mfrom\u001B[0m \u001B[0merr\u001B[0m\u001B[1;33m\u001B[0m\u001B[1;33m\u001B[0m\u001B[0m\n\u001B[0m\u001B[0;32m   2901\u001B[0m \u001B[1;33m\u001B[0m\u001B[0m\n\u001B[0;32m   2902\u001B[0m         \u001B[1;32mif\u001B[0m \u001B[0mtolerance\u001B[0m \u001B[1;32mis\u001B[0m \u001B[1;32mnot\u001B[0m \u001B[1;32mNone\u001B[0m\u001B[1;33m:\u001B[0m\u001B[1;33m\u001B[0m\u001B[1;33m\u001B[0m\u001B[0m\n",
      "\u001B[1;31mKeyError\u001B[0m: ('cps19_ResponseId', 'ethnicity')"
     ]
    }
   ],
   "source": [
    "# loop over the df and create the new column\n",
    "ethnicities_used.append(\"Canadian\")\n",
    "ethnic_groups = []\n",
    "for row in df_final.itertuples():\n",
    "    for i in range(len(row)):\n",
    "        item = row[i]\n",
    "        if item == 1.0:\n",
    "            ethnic_groups.append(ethnicities_used[i-2])\n",
    "df_final[\"ethnicity\"] = ethnic_groups"
   ]
  },
  {
   "cell_type": "code",
   "execution_count": 306,
   "metadata": {},
   "outputs": [
    {
     "name": "stdout",
     "output_type": "stream",
     "text": [
      "        cps19_ResponseId  First Nations  English  Scottish  French  Irish  \\\n",
      "0      R_1OpYXEFGzHRUpjM            0.0      0.0       0.0     0.0    0.0   \n",
      "2      R_USWDAPcQEQiMmNb            0.0      0.0       0.0     0.0    0.0   \n",
      "4      R_27WeMQ1asip2cMD            0.0      0.0       0.0     0.0    0.0   \n",
      "6      R_1Iu8R1UlYzVMycz            0.0      0.0       0.0     0.0    0.0   \n",
      "7      R_2EcS26hqrcVYlab            0.0      0.0       0.0     0.0    0.0   \n",
      "...                  ...            ...      ...       ...     ...    ...   \n",
      "37816  R_3lxCk8GWz1MJYg5            0.0      0.0       0.0     0.0    0.0   \n",
      "37817  R_3oQICUsIyPYiuPS            0.0      0.0       0.0     0.0    0.0   \n",
      "37819  R_3lAD7fCxbFns4CW            0.0      0.0       0.0     0.0    0.0   \n",
      "37820  R_1F3PFOFCfQcvPhj            0.0      0.0       0.0     1.0    0.0   \n",
      "37821  R_sjIpmXkzyqwq2qt            0.0      0.0       0.0     0.0    0.0   \n",
      "\n",
      "       German  Chinese  Italian  Indian  Canadian ethnicity  \n",
      "0         0.0      0.0      0.0     0.0       1.0  Canadian  \n",
      "2         0.0      0.0      1.0     0.0       0.0   Italian  \n",
      "4         0.0      0.0      0.0     0.0       1.0  Canadian  \n",
      "6         0.0      0.0      0.0     0.0       1.0  Canadian  \n",
      "7         1.0      0.0      0.0     0.0       0.0    German  \n",
      "...       ...      ...      ...     ...       ...       ...  \n",
      "37816     0.0      0.0      0.0     0.0       1.0  Canadian  \n",
      "37817     0.0      0.0      0.0     0.0       1.0  Canadian  \n",
      "37819     0.0      0.0      0.0     0.0       1.0  Canadian  \n",
      "37820     0.0      0.0      0.0     0.0       0.0    French  \n",
      "37821     0.0      0.0      0.0     1.0       0.0    Indian  \n",
      "\n",
      "[25267 rows x 12 columns]\n"
     ]
    }
   ],
   "source": [
    "print(df_final)"
   ]
  },
  {
   "cell_type": "code",
   "execution_count": 309,
   "metadata": {},
   "outputs": [],
   "source": [
    "df_final = df_final[[\"cps19_ResponseId\",\"ethnicity\"]]\n",
    "df_final.to_csv(\"cesr_ethnicity.csv\")\n"
   ]
  },
  {
   "cell_type": "code",
   "execution_count": null,
   "metadata": {},
   "outputs": [],
   "source": [
    "df_sub_no_eth_prop.to_csv(\"cesr_no_ethnicity_property\")\n",
    "\n"
   ]
  }
 ],
 "metadata": {
  "kernelspec": {
   "name": "base",
   "language": "python",
   "display_name": "Python (base)"
  },
  "language_info": {
   "codemirror_mode": {
    "name": "ipython",
    "version": 3
   },
   "file_extension": ".py",
   "mimetype": "text/x-python",
   "name": "python",
   "nbconvert_exporter": "python",
   "pygments_lexer": "ipython3",
   "version": "3.7.3"
  }
 },
 "nbformat": 4,
 "nbformat_minor": 4
}