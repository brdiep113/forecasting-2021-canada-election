{
 "cells": [
  {
   "cell_type": "code",
   "execution_count": 3,
   "metadata": {},
   "outputs": [],
   "source": [
    "import pandas as pd"
   ]
  },
  {
   "cell_type": "code",
   "execution_count": 4,
   "metadata": {},
   "outputs": [
    {
     "name": "stdout",
     "output_type": "stream",
     "text": [
      "done\n"
     ]
    },
    {
     "name": "stderr",
     "output_type": "stream",
     "text": [
      "C:\\Users\\ericz\\anaconda3\\lib\\site-packages\\IPython\\core\\interactiveshell.py:3146: DtypeWarning: Columns (25,27,31,33,39,179,181,243,276,299,302,316,327,362,424,425,431,468,538,541,578,579,582,584) have mixed types.Specify dtype option on import or set low_memory=False.\n",
      "  has_raised = await self.run_ast_nodes(code_ast.body, cell_name,\n"
     ]
    }
   ],
   "source": [
    "df = pd.read_csv(\"ces2019_web.csv\", encoding='latin-1')\n",
    "print('done')"
   ]
  },
  {
   "cell_type": "code",
   "execution_count": 5,
   "metadata": {},
   "outputs": [
    {
     "data": {
      "text/plain": "       Unnamed: 0      cps19_StartDate        cps19_EndDate  \\\n37817       37818  2019-10-21 07:00:16  2019-10-21 07:19:19   \n37818       37819  2019-10-21 07:42:56  2019-10-21 08:54:08   \n37819       37820  2019-10-21 08:31:22  2019-10-21 08:50:44   \n37820       37821  2019-10-21 08:31:47  2019-10-21 08:56:06   \n37821       37822  2019-10-21 08:41:10  2019-10-21 08:55:02   \n\n        cps19_ResponseId  cps19_consent  cps19_citizenship  cps19_yob  \\\n37817  R_3oQICUsIyPYiuPS              1                  4         42   \n37818  R_1mnjkphmpoqw5Pz              1                  4         72   \n37819  R_3lAD7fCxbFns4CW              1                  4         50   \n37820  R_1F3PFOFCfQcvPhj              1                  4         64   \n37821  R_sjIpmXkzyqwq2qt              1                  5         58   \n\n       cps19_yob_2001_age  cps19_gender  cps19_province  ...  split_vol_assoc  \\\n37817                 NaN             1              24  ...              0.0   \n37818                 NaN             1              22  ...              NaN   \n37819                 NaN             2              25  ...              NaN   \n37820                 NaN             1              22  ...              NaN   \n37821                 NaN             1              22  ...              NaN   \n\n       pes19_data_quality pes19_panel  pes19_age pes19_duplicates_flag  \\\n37817                 0.0     pes19_r       58.0                   0.0   \n37818                 NaN         NaN        NaN                   NaN   \n37819                 NaN         NaN        NaN                   NaN   \n37820                 NaN         NaN        NaN                   NaN   \n37821                 NaN         NaN        NaN                   NaN   \n\n      pes19_inattentive  cps19_weight_general_all  \\\n37817               0.0                  0.745574   \n37818               NaN                  0.887253   \n37819               NaN                  0.689530   \n37820               NaN                  1.254407   \n37821               NaN                  0.782036   \n\n      cps19_weight_general_restricted  pes19_weight_general_all  \\\n37817                        0.740583                  0.688558   \n37818                             NaN                       NaN   \n37819                        0.699415                       NaN   \n37820                        1.256288                       NaN   \n37821                        0.771724                       NaN   \n\n       pes19_weight_general_restricted  \n37817                         0.635228  \n37818                              NaN  \n37819                              NaN  \n37820                              NaN  \n37821                              NaN  \n\n[5 rows x 621 columns]",
      "text/html": "<div>\n<style scoped>\n    .dataframe tbody tr th:only-of-type {\n        vertical-align: middle;\n    }\n\n    .dataframe tbody tr th {\n        vertical-align: top;\n    }\n\n    .dataframe thead th {\n        text-align: right;\n    }\n</style>\n<table border=\"1\" class=\"dataframe\">\n  <thead>\n    <tr style=\"text-align: right;\">\n      <th></th>\n      <th>Unnamed: 0</th>\n      <th>cps19_StartDate</th>\n      <th>cps19_EndDate</th>\n      <th>cps19_ResponseId</th>\n      <th>cps19_consent</th>\n      <th>cps19_citizenship</th>\n      <th>cps19_yob</th>\n      <th>cps19_yob_2001_age</th>\n      <th>cps19_gender</th>\n      <th>cps19_province</th>\n      <th>...</th>\n      <th>split_vol_assoc</th>\n      <th>pes19_data_quality</th>\n      <th>pes19_panel</th>\n      <th>pes19_age</th>\n      <th>pes19_duplicates_flag</th>\n      <th>pes19_inattentive</th>\n      <th>cps19_weight_general_all</th>\n      <th>cps19_weight_general_restricted</th>\n      <th>pes19_weight_general_all</th>\n      <th>pes19_weight_general_restricted</th>\n    </tr>\n  </thead>\n  <tbody>\n    <tr>\n      <th>37817</th>\n      <td>37818</td>\n      <td>2019-10-21 07:00:16</td>\n      <td>2019-10-21 07:19:19</td>\n      <td>R_3oQICUsIyPYiuPS</td>\n      <td>1</td>\n      <td>4</td>\n      <td>42</td>\n      <td>NaN</td>\n      <td>1</td>\n      <td>24</td>\n      <td>...</td>\n      <td>0.0</td>\n      <td>0.0</td>\n      <td>pes19_r</td>\n      <td>58.0</td>\n      <td>0.0</td>\n      <td>0.0</td>\n      <td>0.745574</td>\n      <td>0.740583</td>\n      <td>0.688558</td>\n      <td>0.635228</td>\n    </tr>\n    <tr>\n      <th>37818</th>\n      <td>37819</td>\n      <td>2019-10-21 07:42:56</td>\n      <td>2019-10-21 08:54:08</td>\n      <td>R_1mnjkphmpoqw5Pz</td>\n      <td>1</td>\n      <td>4</td>\n      <td>72</td>\n      <td>NaN</td>\n      <td>1</td>\n      <td>22</td>\n      <td>...</td>\n      <td>NaN</td>\n      <td>NaN</td>\n      <td>NaN</td>\n      <td>NaN</td>\n      <td>NaN</td>\n      <td>NaN</td>\n      <td>0.887253</td>\n      <td>NaN</td>\n      <td>NaN</td>\n      <td>NaN</td>\n    </tr>\n    <tr>\n      <th>37819</th>\n      <td>37820</td>\n      <td>2019-10-21 08:31:22</td>\n      <td>2019-10-21 08:50:44</td>\n      <td>R_3lAD7fCxbFns4CW</td>\n      <td>1</td>\n      <td>4</td>\n      <td>50</td>\n      <td>NaN</td>\n      <td>2</td>\n      <td>25</td>\n      <td>...</td>\n      <td>NaN</td>\n      <td>NaN</td>\n      <td>NaN</td>\n      <td>NaN</td>\n      <td>NaN</td>\n      <td>NaN</td>\n      <td>0.689530</td>\n      <td>0.699415</td>\n      <td>NaN</td>\n      <td>NaN</td>\n    </tr>\n    <tr>\n      <th>37820</th>\n      <td>37821</td>\n      <td>2019-10-21 08:31:47</td>\n      <td>2019-10-21 08:56:06</td>\n      <td>R_1F3PFOFCfQcvPhj</td>\n      <td>1</td>\n      <td>4</td>\n      <td>64</td>\n      <td>NaN</td>\n      <td>1</td>\n      <td>22</td>\n      <td>...</td>\n      <td>NaN</td>\n      <td>NaN</td>\n      <td>NaN</td>\n      <td>NaN</td>\n      <td>NaN</td>\n      <td>NaN</td>\n      <td>1.254407</td>\n      <td>1.256288</td>\n      <td>NaN</td>\n      <td>NaN</td>\n    </tr>\n    <tr>\n      <th>37821</th>\n      <td>37822</td>\n      <td>2019-10-21 08:41:10</td>\n      <td>2019-10-21 08:55:02</td>\n      <td>R_sjIpmXkzyqwq2qt</td>\n      <td>1</td>\n      <td>5</td>\n      <td>58</td>\n      <td>NaN</td>\n      <td>1</td>\n      <td>22</td>\n      <td>...</td>\n      <td>NaN</td>\n      <td>NaN</td>\n      <td>NaN</td>\n      <td>NaN</td>\n      <td>NaN</td>\n      <td>NaN</td>\n      <td>0.782036</td>\n      <td>0.771724</td>\n      <td>NaN</td>\n      <td>NaN</td>\n    </tr>\n  </tbody>\n</table>\n<p>5 rows × 621 columns</p>\n</div>"
     },
     "execution_count": 5,
     "metadata": {},
     "output_type": "execute_result"
    }
   ],
   "source": [
    "df.tail()"
   ]
  },
  {
   "cell_type": "code",
   "execution_count": 6,
   "metadata": {},
   "outputs": [],
   "source": [
    "df_sub_no_eth_prop = df[[\"cps19_votechoice\", \n",
    "\"cps19_education\", \n",
    "\"cps19_yob\",\n",
    "\"cps19_province\", \n",
    "\"cps19_gender\", \n",
    "\"cps19_Q_Language\", \n",
    "\"cps19_employment\", \n",
    "\"cps19_income_cat\", \n",
    "\"cps19_income_number\", \n",
    "\"cps19_religion\",\n",
    "\"cps19_sexuality\",\n",
    "\"cps19_marital\",\n",
    "\"cps19_children\"\n",
    "]]"
   ]
  },
  {
   "cell_type": "code",
   "execution_count": 7,
   "metadata": {},
   "outputs": [
    {
     "name": "stdout",
     "output_type": "stream",
     "text": [
      "['cps19_ethnicity_23', 'cps19_ethnicity_24', 'cps19_ethnicity_25', 'cps19_ethnicity_26', 'cps19_ethnicity_27', 'cps19_ethnicity_28', 'cps19_ethnicity_29', 'cps19_ethnicity_30', 'cps19_ethnicity_31', 'cps19_ethnicity_32', 'cps19_ethnicity_33', 'cps19_ethnicity_34', 'cps19_ethnicity_35', 'cps19_ethnicity_36', 'cps19_ethnicity_37', 'cps19_ethnicity_38', 'cps19_ethnicity_39', 'cps19_ethnicity_40', 'cps19_ethnicity_41', 'cps19_ethnicity_42', 'cps19_ethnicity_41_TEXT', 'cps19_ethnicity_42_TEXT']\n"
     ]
    }
   ],
   "source": [
    "lst_eth = []\n",
    "for i in range(23, 43):\n",
    "    lst_eth.append('cps19_ethnicity_' + str(i))\n",
    "\n",
    "lst_eth.append('cps19_ethnicity_41_TEXT')\n",
    "lst_eth.append('cps19_ethnicity_42_TEXT')\n",
    "print(lst_eth)"
   ]
  },
  {
   "cell_type": "code",
   "execution_count": 8,
   "metadata": {},
   "outputs": [],
   "source": [
    "df_eth = df[lst_eth]\n",
    "# map ethnicity number to ethnicity text\n"
   ]
  },
  {
   "cell_type": "code",
   "execution_count": 9,
   "metadata": {},
   "outputs": [],
   "source": [
    "ethnicities = ['Aboriginal/ First Nations', 'British', 'Chinese', 'Dutch', 'English', \n",
    "               'French', 'French Canadian', 'German', 'Hispanic', 'Indian', 'Inuk/ Inuit',\n",
    "              'Irish', 'Italian', 'Métis', 'Polish', 'Québécois', 'Scottish', 'Ukrainian', \n",
    "               'cps19_ethnicity_41', 'cps19_ethnicity_42', 'cps19_ethnicity_41_TEXT', \n",
    "               'cps19_ethnicity_42_TEXT']"
   ]
  },
  {
   "cell_type": "code",
   "execution_count": 10,
   "metadata": {},
   "outputs": [],
   "source": [
    "df_eth.columns = ethnicities"
   ]
  },
  {
   "cell_type": "code",
   "execution_count": 11,
   "metadata": {},
   "outputs": [
    {
     "name": "stdout",
     "output_type": "stream",
     "text": [
      "37822\n",
      "       Aboriginal/ First Nations  British  Chinese  Dutch  English  French  \\\n",
      "0                            NaN      NaN      NaN    NaN      NaN     NaN   \n",
      "1                            NaN      NaN      NaN    NaN      NaN     NaN   \n",
      "2                            NaN      NaN      NaN    NaN      NaN     NaN   \n",
      "3                            NaN      1.0      NaN    NaN      NaN     NaN   \n",
      "4                            NaN      NaN      NaN    NaN      NaN     NaN   \n",
      "...                          ...      ...      ...    ...      ...     ...   \n",
      "37817                        NaN      NaN      NaN    NaN      NaN     NaN   \n",
      "37818                        NaN      NaN      NaN    NaN      NaN     NaN   \n",
      "37819                        NaN      NaN      NaN    NaN      NaN     NaN   \n",
      "37820                        NaN      NaN      NaN    NaN      NaN     1.0   \n",
      "37821                        NaN      NaN      NaN    NaN      NaN     NaN   \n",
      "\n",
      "       French Canadian  German  Hispanic  Indian  ...  Italian  Métis  Polish  \\\n",
      "0                  1.0     NaN       NaN     NaN  ...      NaN    NaN     NaN   \n",
      "1                  1.0     NaN       NaN     NaN  ...      NaN    NaN     NaN   \n",
      "2                  NaN     NaN       NaN     NaN  ...      1.0    NaN     NaN   \n",
      "3                  NaN     NaN       NaN     NaN  ...      1.0    NaN     NaN   \n",
      "4                  NaN     NaN       NaN     NaN  ...      NaN    NaN     NaN   \n",
      "...                ...     ...       ...     ...  ...      ...    ...     ...   \n",
      "37817              1.0     NaN       NaN     NaN  ...      NaN    NaN     NaN   \n",
      "37818              NaN     1.0       NaN     NaN  ...      NaN    NaN     NaN   \n",
      "37819              NaN     NaN       NaN     NaN  ...      NaN    NaN     NaN   \n",
      "37820              NaN     NaN       NaN     NaN  ...      NaN    NaN     NaN   \n",
      "37821              NaN     NaN       NaN     1.0  ...      NaN    NaN     NaN   \n",
      "\n",
      "       Québécois  Scottish  Ukrainian  cps19_ethnicity_41  cps19_ethnicity_42  \\\n",
      "0            NaN       NaN        NaN                 NaN                 NaN   \n",
      "1            1.0       1.0        NaN                 NaN                 NaN   \n",
      "2            NaN       NaN        NaN                 NaN                 NaN   \n",
      "3            NaN       NaN        NaN                 NaN                 NaN   \n",
      "4            NaN       NaN        NaN                 1.0                 NaN   \n",
      "...          ...       ...        ...                 ...                 ...   \n",
      "37817        NaN       NaN        NaN                 NaN                 NaN   \n",
      "37818        NaN       NaN        NaN                 1.0                 NaN   \n",
      "37819        NaN       NaN        NaN                 NaN                 NaN   \n",
      "37820        NaN       NaN        NaN                 NaN                 NaN   \n",
      "37821        NaN       NaN        NaN                 NaN                 NaN   \n",
      "\n",
      "       cps19_ethnicity_41_TEXT  cps19_ethnicity_42_TEXT  \n",
      "0                          NaN                      NaN  \n",
      "1                          NaN                      NaN  \n",
      "2                          NaN                      NaN  \n",
      "3                          NaN                      NaN  \n",
      "4                     Filipino                      NaN  \n",
      "...                        ...                      ...  \n",
      "37817                      NaN                      NaN  \n",
      "37818                Hungarian                      NaN  \n",
      "37819                      NaN                      NaN  \n",
      "37820                      NaN                      NaN  \n",
      "37821                      NaN                      NaN  \n",
      "\n",
      "[37822 rows x 22 columns]\n"
     ]
    }
   ],
   "source": [
    "print(len(df_eth))\n",
    "print(df_eth)"
   ]
  },
  {
   "cell_type": "code",
   "execution_count": 12,
   "metadata": {},
   "outputs": [],
   "source": [
    "df_eth = df_eth.dropna(how='all')"
   ]
  },
  {
   "cell_type": "code",
   "execution_count": 13,
   "metadata": {},
   "outputs": [
    {
     "name": "stdout",
     "output_type": "stream",
     "text": [
      "35039\n"
     ]
    }
   ],
   "source": [
    "print(len(df_eth))"
   ]
  },
  {
   "cell_type": "code",
   "execution_count": 14,
   "metadata": {},
   "outputs": [],
   "source": [
    "df_eth = df_eth.fillna(0)"
   ]
  },
  {
   "cell_type": "code",
   "execution_count": 15,
   "metadata": {},
   "outputs": [
    {
     "name": "stdout",
     "output_type": "stream",
     "text": [
      "       Aboriginal/ First Nations  British  Chinese  Dutch  English  French  \\\n",
      "0                            0.0      0.0      0.0    0.0      0.0     0.0   \n",
      "1                            0.0      0.0      0.0    0.0      0.0     0.0   \n",
      "2                            0.0      0.0      0.0    0.0      0.0     0.0   \n",
      "3                            0.0      1.0      0.0    0.0      0.0     0.0   \n",
      "4                            0.0      0.0      0.0    0.0      0.0     0.0   \n",
      "...                          ...      ...      ...    ...      ...     ...   \n",
      "37816                        0.0      0.0      0.0    0.0      0.0     0.0   \n",
      "37817                        0.0      0.0      0.0    0.0      0.0     0.0   \n",
      "37818                        0.0      0.0      0.0    0.0      0.0     0.0   \n",
      "37820                        0.0      0.0      0.0    0.0      0.0     1.0   \n",
      "37821                        0.0      0.0      0.0    0.0      0.0     0.0   \n",
      "\n",
      "       French Canadian  German  Hispanic  Indian  ...  Italian  Métis  Polish  \\\n",
      "0                  1.0     0.0       0.0     0.0  ...      0.0    0.0     0.0   \n",
      "1                  1.0     0.0       0.0     0.0  ...      0.0    0.0     0.0   \n",
      "2                  0.0     0.0       0.0     0.0  ...      1.0    0.0     0.0   \n",
      "3                  0.0     0.0       0.0     0.0  ...      1.0    0.0     0.0   \n",
      "4                  0.0     0.0       0.0     0.0  ...      0.0    0.0     0.0   \n",
      "...                ...     ...       ...     ...  ...      ...    ...     ...   \n",
      "37816              1.0     0.0       0.0     0.0  ...      0.0    0.0     0.0   \n",
      "37817              1.0     0.0       0.0     0.0  ...      0.0    0.0     0.0   \n",
      "37818              0.0     1.0       0.0     0.0  ...      0.0    0.0     0.0   \n",
      "37820              0.0     0.0       0.0     0.0  ...      0.0    0.0     0.0   \n",
      "37821              0.0     0.0       0.0     1.0  ...      0.0    0.0     0.0   \n",
      "\n",
      "       Québécois  Scottish  Ukrainian  cps19_ethnicity_41  cps19_ethnicity_42  \\\n",
      "0            0.0       0.0        0.0                 0.0                 0.0   \n",
      "1            1.0       1.0        0.0                 0.0                 0.0   \n",
      "2            0.0       0.0        0.0                 0.0                 0.0   \n",
      "3            0.0       0.0        0.0                 0.0                 0.0   \n",
      "4            0.0       0.0        0.0                 1.0                 0.0   \n",
      "...          ...       ...        ...                 ...                 ...   \n",
      "37816        0.0       0.0        0.0                 0.0                 0.0   \n",
      "37817        0.0       0.0        0.0                 0.0                 0.0   \n",
      "37818        0.0       0.0        0.0                 1.0                 0.0   \n",
      "37820        0.0       0.0        0.0                 0.0                 0.0   \n",
      "37821        0.0       0.0        0.0                 0.0                 0.0   \n",
      "\n",
      "       cps19_ethnicity_41_TEXT  cps19_ethnicity_42_TEXT  \n",
      "0                            0                        0  \n",
      "1                            0                        0  \n",
      "2                            0                        0  \n",
      "3                            0                        0  \n",
      "4                     Filipino                        0  \n",
      "...                        ...                      ...  \n",
      "37816                        0                        0  \n",
      "37817                        0                        0  \n",
      "37818                Hungarian                        0  \n",
      "37820                        0                        0  \n",
      "37821                        0                        0  \n",
      "\n",
      "[35039 rows x 22 columns]\n"
     ]
    }
   ],
   "source": [
    "print(df_eth)"
   ]
  },
  {
   "cell_type": "code",
   "execution_count": 16,
   "metadata": {},
   "outputs": [],
   "source": [
    "# join with response id\n",
    "df_responseid = df['cps19_ResponseId']"
   ]
  },
  {
   "cell_type": "code",
   "execution_count": 17,
   "metadata": {},
   "outputs": [],
   "source": [
    "df_final = pd.concat([df_responseid, df_eth], axis=1)"
   ]
  },
  {
   "cell_type": "code",
   "execution_count": 18,
   "metadata": {},
   "outputs": [
    {
     "name": "stdout",
     "output_type": "stream",
     "text": [
      "        cps19_ResponseId  Aboriginal/ First Nations  British  Chinese  Dutch  \\\n",
      "0      R_1OpYXEFGzHRUpjM                        0.0      0.0      0.0    0.0   \n",
      "1      R_2qdrL3J618rxYW0                        0.0      0.0      0.0    0.0   \n",
      "2      R_USWDAPcQEQiMmNb                        0.0      0.0      0.0    0.0   \n",
      "3      R_3IQaeDXy0tBzEry                        0.0      1.0      0.0    0.0   \n",
      "4      R_27WeMQ1asip2cMD                        0.0      0.0      0.0    0.0   \n",
      "...                  ...                        ...      ...      ...    ...   \n",
      "37817  R_3oQICUsIyPYiuPS                        0.0      0.0      0.0    0.0   \n",
      "37818  R_1mnjkphmpoqw5Pz                        0.0      0.0      0.0    0.0   \n",
      "37819  R_3lAD7fCxbFns4CW                        NaN      NaN      NaN    NaN   \n",
      "37820  R_1F3PFOFCfQcvPhj                        0.0      0.0      0.0    0.0   \n",
      "37821  R_sjIpmXkzyqwq2qt                        0.0      0.0      0.0    0.0   \n",
      "\n",
      "       English  French  French Canadian  German  Hispanic  ...  Italian  \\\n",
      "0          0.0     0.0              1.0     0.0       0.0  ...      0.0   \n",
      "1          0.0     0.0              1.0     0.0       0.0  ...      0.0   \n",
      "2          0.0     0.0              0.0     0.0       0.0  ...      1.0   \n",
      "3          0.0     0.0              0.0     0.0       0.0  ...      1.0   \n",
      "4          0.0     0.0              0.0     0.0       0.0  ...      0.0   \n",
      "...        ...     ...              ...     ...       ...  ...      ...   \n",
      "37817      0.0     0.0              1.0     0.0       0.0  ...      0.0   \n",
      "37818      0.0     0.0              0.0     1.0       0.0  ...      0.0   \n",
      "37819      NaN     NaN              NaN     NaN       NaN  ...      NaN   \n",
      "37820      0.0     1.0              0.0     0.0       0.0  ...      0.0   \n",
      "37821      0.0     0.0              0.0     0.0       0.0  ...      0.0   \n",
      "\n",
      "       Métis  Polish  Québécois  Scottish  Ukrainian  cps19_ethnicity_41  \\\n",
      "0        0.0     0.0        0.0       0.0        0.0                 0.0   \n",
      "1        0.0     0.0        1.0       1.0        0.0                 0.0   \n",
      "2        0.0     0.0        0.0       0.0        0.0                 0.0   \n",
      "3        0.0     0.0        0.0       0.0        0.0                 0.0   \n",
      "4        0.0     0.0        0.0       0.0        0.0                 1.0   \n",
      "...      ...     ...        ...       ...        ...                 ...   \n",
      "37817    0.0     0.0        0.0       0.0        0.0                 0.0   \n",
      "37818    0.0     0.0        0.0       0.0        0.0                 1.0   \n",
      "37819    NaN     NaN        NaN       NaN        NaN                 NaN   \n",
      "37820    0.0     0.0        0.0       0.0        0.0                 0.0   \n",
      "37821    0.0     0.0        0.0       0.0        0.0                 0.0   \n",
      "\n",
      "       cps19_ethnicity_42  cps19_ethnicity_41_TEXT  cps19_ethnicity_42_TEXT  \n",
      "0                     0.0                        0                        0  \n",
      "1                     0.0                        0                        0  \n",
      "2                     0.0                        0                        0  \n",
      "3                     0.0                        0                        0  \n",
      "4                     0.0                 Filipino                        0  \n",
      "...                   ...                      ...                      ...  \n",
      "37817                 0.0                        0                        0  \n",
      "37818                 0.0                Hungarian                        0  \n",
      "37819                 NaN                      NaN                      NaN  \n",
      "37820                 0.0                        0                        0  \n",
      "37821                 0.0                        0                        0  \n",
      "\n",
      "[37822 rows x 23 columns]\n"
     ]
    }
   ],
   "source": [
    "print(df_final)"
   ]
  },
  {
   "cell_type": "code",
   "execution_count": 19,
   "metadata": {},
   "outputs": [],
   "source": [
    "df_final.to_csv(\"cesr_ethnicity\")"
   ]
  },
  {
   "cell_type": "code",
   "execution_count": 20,
   "metadata": {},
   "outputs": [],
   "source": [
    "df_sub_no_eth_prop.to_csv(\"cesr_no_ethnicity_property\")"
   ]
  },
  {
   "cell_type": "code",
   "execution_count": 20,
   "metadata": {},
   "outputs": [],
   "source": []
  }
 ],
 "metadata": {
  "kernelspec": {
   "name": "base",
   "language": "python",
   "display_name": "Python (base)"
  },
  "language_info": {
   "codemirror_mode": {
    "name": "ipython",
    "version": 3
   },
   "file_extension": ".py",
   "mimetype": "text/x-python",
   "name": "python",
   "nbconvert_exporter": "python",
   "pygments_lexer": "ipython3",
   "version": "3.7.3"
  }
 },
 "nbformat": 4,
 "nbformat_minor": 4
}